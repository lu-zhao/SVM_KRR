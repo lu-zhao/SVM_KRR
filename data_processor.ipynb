{
 "cells": [
  {
   "cell_type": "code",
   "execution_count": 9,
   "metadata": {},
   "outputs": [],
   "source": [
    "import math\n",
    "import numpy as np\n",
    "import pandas as pd\n",
    "from sklearn.preprocessing import MinMaxScaler"
   ]
  },
  {
   "cell_type": "code",
   "execution_count": 18,
   "metadata": {},
   "outputs": [],
   "source": [
    "class DataLoader():\n",
    "    def __init__(self, filename, split, colsX, colsY, Root):\n",
    "        dataframe = pd.read_csv(filename,sep=',')\n",
    "        if not isinstance(dataframe.index, pd.DatetimeIndex):\n",
    "            dataframe['Date_Time'] = pd.to_datetime(dataframe['Date_Time'])\n",
    "            dataframe = dataframe.set_index('Date_Time')\n",
    "#         print('dataframe length:', len(dataframe))\n",
    "        dataframe[colsY] = dataframe.set_index(colsY).index.map(lambda x: math.pow(x, Root))\n",
    "    \n",
    "        i_split = int(len(dataframe) * split)\n",
    "        self.data_trainX = dataframe.get(colsX).values[:i_split]\n",
    "        self.data_testX  = dataframe.get(colsX)[i_split:]\n",
    "        \n",
    "        self.data_trainY = dataframe.get(colsY).values[:i_split]\n",
    "        self.data_testY  = dataframe.get(colsY)[i_split:]\n",
    "        \n",
    "        self.len_train  = len(self.data_trainX)\n",
    "        self.len_test   = len(self.data_testX)\n",
    "    \n",
    "    def get_norX_data(self):\n",
    "        min_max_scaler = MinMaxScaler()\n",
    "        self.pre_time = self.data_testX.index\n",
    "        train_X = min_max_scaler.fit_transform(self.data_trainX)\n",
    "        test_X = min_max_scaler.transform(self.data_testX.values)\n",
    "        return train_X, test_X\n",
    "    \n",
    "    def get_norY_data(self):\n",
    "        min_max_scaler = MinMaxScaler()\n",
    "        train_Y = min_max_scaler.fit_transform(self.data_trainY)\n",
    "        test_Y = min_max_scaler.transform(self.data_testY.values)\n",
    "        return train_Y, test_Y"
   ]
  },
  {
   "cell_type": "code",
   "execution_count": 21,
   "metadata": {},
   "outputs": [],
   "source": [
    "# data = DataLoader(\n",
    "#         os.path.join('data', \"Sodermalmsallen4-6.csv\"),\n",
    "#         colsX=[\"hour\",\"one_hour_before\",\"weekday_\",\"two_hour_before\",\"three_hour_before\",\"1days_before\",\"7days_before\",\n",
    "#               \"weather\"],\n",
    "#         colsY=[\"Consumption\"],\n",
    "#         split=0.9,\n",
    "#         Root=0.5\n",
    "#     )\n"
   ]
  },
  {
   "cell_type": "code",
   "execution_count": 22,
   "metadata": {},
   "outputs": [],
   "source": [
    "# data.data_trainY"
   ]
  },
  {
   "cell_type": "code",
   "execution_count": null,
   "metadata": {},
   "outputs": [],
   "source": []
  }
 ],
 "metadata": {
  "kernelspec": {
   "display_name": "venv_SVM_KRR",
   "language": "python",
   "name": "venv_svm_krr"
  },
  "language_info": {
   "codemirror_mode": {
    "name": "ipython",
    "version": 3
   },
   "file_extension": ".py",
   "mimetype": "text/x-python",
   "name": "python",
   "nbconvert_exporter": "python",
   "pygments_lexer": "ipython3",
   "version": "3.7.3"
  }
 },
 "nbformat": 4,
 "nbformat_minor": 2
}
